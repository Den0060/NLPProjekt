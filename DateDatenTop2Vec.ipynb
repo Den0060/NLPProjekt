{
 "cells": [
  {
   "metadata": {},
   "cell_type": "markdown",
   "source": [
    "# Top2Vec Datenverarbeitung\n",
    "\n",
    "Erstellt von: Enes Yilmaz, Dennis Waltemathe, Demir Dolovac"
   ],
   "id": "825ab9035ac90c81"
  },
  {
   "cell_type": "markdown",
   "id": "b2e89a4e-48ba-4c8d-aee4-3ac10fcbca1a",
   "metadata": {},
   "source": [
    "## Plan & Grund der Aufteilung\n",
    "Da wir die Daten auch Zuordnen können möchten in unserem Top2Vec-Modell, haben wir vor, den Datensatz nach Jahren auftzuteilen, da der Datensatz dies auch ermöglicht und wir die Topics so besser zeitgemäß einschätzen können."
   ]
  },
  {
   "cell_type": "markdown",
   "id": "0c9aed6c-0476-4adf-8ba4-deedaca4d869",
   "metadata": {},
   "source": [
    "Die Datei wird mittels Panda importiert."
   ]
  },
  {
   "cell_type": "code",
   "id": "initial_id",
   "metadata": {
    "collapsed": true,
    "jupyter": {
     "outputs_hidden": true
    },
    "ExecuteTime": {
     "end_time": "2025-02-13T17:13:33.736329Z",
     "start_time": "2025-02-13T17:13:16.392445Z"
    }
   },
   "source": [
    "import pandas as pd\n",
    "csv_datei = \"data_summarizer/speeches.csv\"\n",
    "\n",
    "\n",
    "df = pd.read_csv(csv_datei)\n"
   ],
   "outputs": [],
   "execution_count": 4
  },
  {
   "cell_type": "markdown",
   "id": "aa8d2127-68b0-4ba3-976f-24e55cdbaceb",
   "metadata": {},
   "source": [
    "Wir geben hier an dieser Stelle die Spalten der CSV-Datei aus, um an die Namen der Spalten zu kommen und dort die Spalte \"date\" ausfindig zu machen, um später dann nach Jahr sortiert die Daten aufzuteilen"
   ]
  },
  {
   "cell_type": "code",
   "id": "4014ed62cffb08c0",
   "metadata": {
    "ExecuteTime": {
     "end_time": "2025-02-13T16:54:41.692474Z",
     "start_time": "2025-02-13T16:54:41.686113Z"
    }
   },
   "source": [
    "df.columns"
   ],
   "outputs": [
    {
     "data": {
      "text/plain": [
       "Index(['id', 'session', 'electoralTerm', 'firstName', 'lastName',\n",
       "       'politicianId', 'speechContent', 'factionId', 'documentUrl',\n",
       "       'positionShort', 'positionLong', 'date'],\n",
       "      dtype='object')"
      ]
     },
     "execution_count": 2,
     "metadata": {},
     "output_type": "execute_result"
    }
   ],
   "execution_count": 2
  },
  {
   "cell_type": "code",
   "execution_count": 136,
   "id": "c99758825a449bdf",
   "metadata": {
    "ExecuteTime": {
     "end_time": "2025-02-12T13:00:39.330203Z",
     "start_time": "2025-02-12T13:00:39.283648Z"
    }
   },
   "outputs": [
    {
     "data": {
      "text/plain": [
       "0    1949-09-12\n",
       "1    1949-09-12\n",
       "2    1949-09-12\n",
       "3    1949-09-12\n",
       "4    1949-09-12\n",
       "Name: date, dtype: object"
      ]
     },
     "execution_count": 136,
     "metadata": {},
     "output_type": "execute_result"
    }
   ],
   "source": [
    "df[\"date\"].head()"
   ]
  },
  {
   "cell_type": "markdown",
   "id": "493cf98e-1828-4598-ba6d-0fe1f5d82260",
   "metadata": {},
   "source": [
    "Laden dann hier die Daten aus der Spalte \"Date\""
   ]
  },
  {
   "cell_type": "code",
   "execution_count": 137,
   "id": "b08d03ca84263572",
   "metadata": {
    "ExecuteTime": {
     "end_time": "2025-02-12T13:00:39.434976Z",
     "start_time": "2025-02-12T13:00:39.364764Z"
    }
   },
   "outputs": [],
   "source": [
    "df['date'] = pd.to_datetime(df['date'], errors='coerce')\n"
   ]
  },
  {
   "cell_type": "markdown",
   "id": "67a2b45a-28f3-4f9e-b2fd-ef064cd81d47",
   "metadata": {},
   "source": [
    "Als nächstes erstellen wir dann manuell die jeweiligen Dateien."
   ]
  },
  {
   "cell_type": "code",
   "execution_count": 138,
   "id": "fdfa4b7b181c25ba",
   "metadata": {
    "ExecuteTime": {
     "end_time": "2025-02-12T13:00:47.279438Z",
     "start_time": "2025-02-12T13:00:42.985538Z"
    }
   },
   "outputs": [],
   "source": [
    "# Daten aus dem Zeitraum 1949-1959 filtern\n",
    "df_filtered = df[(df['date'].dt.year >= 2010) & (df['date'].dt.year <= 2019)]\n",
    "\n",
    "# Nur Texte mit mindestens 100 Wörtern behalten\n",
    "df_filtered = df_filtered[df_filtered['speechContent'].str.split().str.len() >= 100]\n",
    "\n",
    "# 5000 zufällige Zeilen auswählen (falls weniger vorhanden, alle nehmen)\n",
    "df_sampled = df_filtered.sample(n=min(5000, len(df_filtered)), random_state=42)\n",
    "\n",
    "# Relevante Spalten auswählen\n",
    "df_sampled = df_sampled[['date', 'speechContent']]"
   ]
  },
  {
   "cell_type": "code",
   "execution_count": 139,
   "id": "6993374848d5f958",
   "metadata": {
    "ExecuteTime": {
     "end_time": "2025-02-12T13:00:47.611742Z",
     "start_time": "2025-02-12T13:00:47.286956Z"
    }
   },
   "outputs": [
    {
     "name": "stdout",
     "output_type": "stream",
     "text": [
      "CSV-Datei mit 5000 zufälligen Texten gespeichert.\n"
     ]
    }
   ],
   "source": [
    "# Neue CSV speichern\n",
    "df_sampled.to_csv(\"data_top2vec/new_filtered_speeches_2010_2019_neu.csv\", index=False) # _neu falls Sie es erneut ausführen möchten unser Modell nicht überschrieben wird\n",
    "\n",
    "print(\"CSV-Datei mit 5000 zufälligen Texten gespeichert.\")"
   ]
  },
  {
   "cell_type": "code",
   "execution_count": 140,
   "id": "89bbfe6a665219e4",
   "metadata": {
    "ExecuteTime": {
     "end_time": "2025-02-12T13:00:47.944329Z",
     "start_time": "2025-02-12T13:00:47.691816Z"
    }
   },
   "outputs": [
    {
     "data": {
      "text/plain": [
       "Index(['date', 'speechContent'], dtype='object')"
      ]
     },
     "execution_count": 140,
     "metadata": {},
     "output_type": "execute_result"
    }
   ],
   "source": [
    "df = pd.read_csv(\"data_top2vec/new_filtered_speeches_2010_2019.csv\")\n",
    "#Falls Sie die neu gefilterte Datei nutzen möchten:\n",
    "#df = pd.read_csv(\"data_top2vec/new_filtered_speeches_2010_2019_neu.csv\")\n",
    "\n",
    "\n",
    "df.columns"
   ]
  },
  {
   "cell_type": "code",
   "execution_count": 141,
   "id": "c64f274cc76d26cb",
   "metadata": {
    "ExecuteTime": {
     "end_time": "2025-02-12T13:00:49.009568Z",
     "start_time": "2025-02-12T13:00:49.002734Z"
    }
   },
   "outputs": [
    {
     "name": "stdout",
     "output_type": "stream",
     "text": [
      "5000\n"
     ]
    },
    {
     "data": {
      "text/html": [
       "<div>\n",
       "<style scoped>\n",
       "    .dataframe tbody tr th:only-of-type {\n",
       "        vertical-align: middle;\n",
       "    }\n",
       "\n",
       "    .dataframe tbody tr th {\n",
       "        vertical-align: top;\n",
       "    }\n",
       "\n",
       "    .dataframe thead th {\n",
       "        text-align: right;\n",
       "    }\n",
       "</style>\n",
       "<table border=\"1\" class=\"dataframe\">\n",
       "  <thead>\n",
       "    <tr style=\"text-align: right;\">\n",
       "      <th></th>\n",
       "      <th>date</th>\n",
       "      <th>speechContent</th>\n",
       "    </tr>\n",
       "  </thead>\n",
       "  <tbody>\n",
       "    <tr>\n",
       "      <th>4995</th>\n",
       "      <td>2019-12-18</td>\n",
       "      <td>\\n\\nNa ja, das Problem ist ja nicht, dass wir ...</td>\n",
       "    </tr>\n",
       "    <tr>\n",
       "      <th>4996</th>\n",
       "      <td>2015-03-27</td>\n",
       "      <td>Danke schön. - Dann ist das so im Protokoll ve...</td>\n",
       "    </tr>\n",
       "    <tr>\n",
       "      <th>4997</th>\n",
       "      <td>2013-03-14</td>\n",
       "      <td>Der Gesetzentwurf soll die EU-Verbraucherrecht...</td>\n",
       "    </tr>\n",
       "    <tr>\n",
       "      <th>4998</th>\n",
       "      <td>2016-10-20</td>\n",
       "      <td>Sehr geehrter Herr Präsident! Liebe Kolleginne...</td>\n",
       "    </tr>\n",
       "    <tr>\n",
       "      <th>4999</th>\n",
       "      <td>2011-12-01</td>\n",
       "      <td>Wir kommen zur Abstimmung. Der Rechtsausschuss...</td>\n",
       "    </tr>\n",
       "  </tbody>\n",
       "</table>\n",
       "</div>"
      ],
      "text/plain": [
       "            date                                      speechContent\n",
       "4995  2019-12-18  \\n\\nNa ja, das Problem ist ja nicht, dass wir ...\n",
       "4996  2015-03-27  Danke schön. - Dann ist das so im Protokoll ve...\n",
       "4997  2013-03-14  Der Gesetzentwurf soll die EU-Verbraucherrecht...\n",
       "4998  2016-10-20  Sehr geehrter Herr Präsident! Liebe Kolleginne...\n",
       "4999  2011-12-01  Wir kommen zur Abstimmung. Der Rechtsausschuss..."
      ]
     },
     "execution_count": 141,
     "metadata": {},
     "output_type": "execute_result"
    }
   ],
   "source": [
    "print(len(df))\n",
    "df.tail()"
   ]
  },
  {
   "cell_type": "markdown",
   "id": "e8214b96-3f41-4c82-b4f0-ba581f26fded",
   "metadata": {},
   "source": [
    "## Mehrwert dieses Skripts\n",
    "In diesem Skript werden Bundestagsreden nun aus einer CSV-Datei geladen und in einen DataFrame eingelesen. Anschließend wird der Datensatz auf einen Zeitraum (z.B. 2010 bis 2019) gefiltert, um aktuelle und relevante Reden zu den jeweiligen Jahrzehnten im Top2Vec-Modell später berücksichtigen zu können. Texte mit weniger als 100 Wörtern werden aussortiert, sodass nur inhaltlich aussagekräftige Beiträge erhalten bleiben, da dass Top2Vec-Modell sonst irrelevante Topics hinzufügt. Aus dem gefilterten Datensatz wird eine zufällige Stichprobe von bis zu 5000 Zeilen gezogen, um die Datenmenge handhabbar zu machen. Schließlich werden nur die relevanten Spalten ausgewählt und das Ergebnis in einer neuen CSV-Datei gespeichert. Diese Vorgehensweise ist sinnvoll, da sie sicherstellt, dass nur repräsentative und qualitativ hochwertige Daten für weitere Analysen in unserem Top2Vec-Modell genutzt werden."
   ]
  },
  {
   "metadata": {},
   "cell_type": "code",
   "outputs": [],
   "execution_count": null,
   "source": "",
   "id": "e1dffc9567217a89"
  }
 ],
 "metadata": {
  "kernelspec": {
   "display_name": "Python 3 (ipykernel)",
   "language": "python",
   "name": "python3"
  },
  "language_info": {
   "codemirror_mode": {
    "name": "ipython",
    "version": 3
   },
   "file_extension": ".py",
   "mimetype": "text/x-python",
   "name": "python",
   "nbconvert_exporter": "python",
   "pygments_lexer": "ipython3",
   "version": "3.10.11"
  }
 },
 "nbformat": 4,
 "nbformat_minor": 5
}
